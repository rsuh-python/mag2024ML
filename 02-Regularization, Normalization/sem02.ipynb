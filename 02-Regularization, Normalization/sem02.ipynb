{
 "cells": [
  {
   "cell_type": "markdown",
   "id": "020e980a-e4f0-4ebf-a04d-930005b75ed4",
   "metadata": {},
   "source": [
    "# Задание 1.\n",
    "\n",
    "Поработаем с датасетом Black Friday. Есть его описание:\n",
    "\n",
    "Description\n",
    "\n",
    "The dataset here is a sample of the transactions made in a retail store. The store wants to know better the customer purchase behaviour against different products. Specifically, here the problem is a regression problem where we are trying to predict the dependent variable (the amount of purchase) with the help of the information contained in the other variables.\n",
    "\n",
    "Classification problem can also be settled in this dataset since several variables are categorical, and some other approaches could be \"Predicting the age of the consumer\" or even \"Predict the category of goods bought\". This dataset is also particularly convenient for clustering and maybe find different clusters of consumers within it."
   ]
  },
  {
   "cell_type": "code",
   "execution_count": 46,
   "id": "28f69d5d-8556-4224-aabb-f21c38e26c27",
   "metadata": {},
   "outputs": [],
   "source": [
    "import pandas as pd\n",
    "import numpy as np\n",
    "from matplotlib import pylab as plt\n",
    "\n",
    "from sklearn.linear_model import LinearRegression, Lasso, Ridge\n",
    "from sklearn.metrics import mean_squared_error, r2_score\n",
    "from sklearn.model_selection import train_test_split\n",
    "from sklearn.preprocessing import StandardScaler"
   ]
  },
  {
   "cell_type": "code",
   "execution_count": 47,
   "id": "b11bf2d2-7959-4111-a547-6fd5df461329",
   "metadata": {},
   "outputs": [
    {
     "data": {
      "text/html": [
       "<div>\n",
       "<style scoped>\n",
       "    .dataframe tbody tr th:only-of-type {\n",
       "        vertical-align: middle;\n",
       "    }\n",
       "\n",
       "    .dataframe tbody tr th {\n",
       "        vertical-align: top;\n",
       "    }\n",
       "\n",
       "    .dataframe thead th {\n",
       "        text-align: right;\n",
       "    }\n",
       "</style>\n",
       "<table border=\"1\" class=\"dataframe\">\n",
       "  <thead>\n",
       "    <tr style=\"text-align: right;\">\n",
       "      <th></th>\n",
       "      <th>User_ID</th>\n",
       "      <th>Product_ID</th>\n",
       "      <th>Gender</th>\n",
       "      <th>Age</th>\n",
       "      <th>Occupation</th>\n",
       "      <th>City_Category</th>\n",
       "      <th>Stay_In_Current_City_Years</th>\n",
       "      <th>Marital_Status</th>\n",
       "      <th>Product_Category_1</th>\n",
       "      <th>Product_Category_2</th>\n",
       "      <th>Product_Category_3</th>\n",
       "      <th>Purchase</th>\n",
       "    </tr>\n",
       "  </thead>\n",
       "  <tbody>\n",
       "    <tr>\n",
       "      <th>0</th>\n",
       "      <td>1000001</td>\n",
       "      <td>P00069042</td>\n",
       "      <td>F</td>\n",
       "      <td>0-17</td>\n",
       "      <td>10</td>\n",
       "      <td>A</td>\n",
       "      <td>2</td>\n",
       "      <td>0</td>\n",
       "      <td>3</td>\n",
       "      <td>NaN</td>\n",
       "      <td>NaN</td>\n",
       "      <td>8370</td>\n",
       "    </tr>\n",
       "    <tr>\n",
       "      <th>1</th>\n",
       "      <td>1000001</td>\n",
       "      <td>P00248942</td>\n",
       "      <td>F</td>\n",
       "      <td>0-17</td>\n",
       "      <td>10</td>\n",
       "      <td>A</td>\n",
       "      <td>2</td>\n",
       "      <td>0</td>\n",
       "      <td>1</td>\n",
       "      <td>6.0</td>\n",
       "      <td>14.0</td>\n",
       "      <td>15200</td>\n",
       "    </tr>\n",
       "    <tr>\n",
       "      <th>2</th>\n",
       "      <td>1000001</td>\n",
       "      <td>P00087842</td>\n",
       "      <td>F</td>\n",
       "      <td>0-17</td>\n",
       "      <td>10</td>\n",
       "      <td>A</td>\n",
       "      <td>2</td>\n",
       "      <td>0</td>\n",
       "      <td>12</td>\n",
       "      <td>NaN</td>\n",
       "      <td>NaN</td>\n",
       "      <td>1422</td>\n",
       "    </tr>\n",
       "    <tr>\n",
       "      <th>3</th>\n",
       "      <td>1000001</td>\n",
       "      <td>P00085442</td>\n",
       "      <td>F</td>\n",
       "      <td>0-17</td>\n",
       "      <td>10</td>\n",
       "      <td>A</td>\n",
       "      <td>2</td>\n",
       "      <td>0</td>\n",
       "      <td>12</td>\n",
       "      <td>14.0</td>\n",
       "      <td>NaN</td>\n",
       "      <td>1057</td>\n",
       "    </tr>\n",
       "    <tr>\n",
       "      <th>4</th>\n",
       "      <td>1000002</td>\n",
       "      <td>P00285442</td>\n",
       "      <td>M</td>\n",
       "      <td>55+</td>\n",
       "      <td>16</td>\n",
       "      <td>C</td>\n",
       "      <td>4+</td>\n",
       "      <td>0</td>\n",
       "      <td>8</td>\n",
       "      <td>NaN</td>\n",
       "      <td>NaN</td>\n",
       "      <td>7969</td>\n",
       "    </tr>\n",
       "  </tbody>\n",
       "</table>\n",
       "</div>"
      ],
      "text/plain": [
       "   User_ID Product_ID Gender   Age  Occupation City_Category  \\\n",
       "0  1000001  P00069042      F  0-17          10             A   \n",
       "1  1000001  P00248942      F  0-17          10             A   \n",
       "2  1000001  P00087842      F  0-17          10             A   \n",
       "3  1000001  P00085442      F  0-17          10             A   \n",
       "4  1000002  P00285442      M   55+          16             C   \n",
       "\n",
       "  Stay_In_Current_City_Years  Marital_Status  Product_Category_1  \\\n",
       "0                          2               0                   3   \n",
       "1                          2               0                   1   \n",
       "2                          2               0                  12   \n",
       "3                          2               0                  12   \n",
       "4                         4+               0                   8   \n",
       "\n",
       "   Product_Category_2  Product_Category_3  Purchase  \n",
       "0                 NaN                 NaN      8370  \n",
       "1                 6.0                14.0     15200  \n",
       "2                 NaN                 NaN      1422  \n",
       "3                14.0                 NaN      1057  \n",
       "4                 NaN                 NaN      7969  "
      ]
     },
     "execution_count": 47,
     "metadata": {},
     "output_type": "execute_result"
    }
   ],
   "source": [
    "data = pd.read_csv('BlackFriday.csv')\n",
    "data.head()"
   ]
  },
  {
   "cell_type": "markdown",
   "id": "0b823936-3eaf-48ec-a973-c838580492ef",
   "metadata": {},
   "source": [
    "# Подготовка данных"
   ]
  },
  {
   "cell_type": "code",
   "execution_count": null,
   "id": "f6f709f6-6dde-4b02-a9dc-bce92620166e",
   "metadata": {},
   "outputs": [],
   "source": [
    "missing_values = data.isnull().sum().sort_values(ascending = False)\n",
    "missing_values = missing_values[missing_values > 0]/data.shape[0]\n",
    "print(f'{missing_values *100} %')"
   ]
  },
  {
   "cell_type": "markdown",
   "id": "79168dc5-e64d-4763-b6e7-9d72b0d4515b",
   "metadata": {},
   "source": [
    "Скорее всего NaN-ы в Product_Category_2 и Product_Category_3 означают, что человек не покупал продукты из этих категорий.\n",
    "\n",
    "Поэтому можем заменить эти пропущенные значения на 0."
   ]
  },
  {
   "cell_type": "code",
   "execution_count": null,
   "id": "f0dd6043-3aa8-4746-a4c3-6dca24c5b315",
   "metadata": {},
   "outputs": [],
   "source": [
    "data = data.fillna(0)"
   ]
  },
  {
   "cell_type": "code",
   "execution_count": null,
   "id": "455f366b-0233-46d5-8648-07ea8cc51f76",
   "metadata": {},
   "outputs": [],
   "source": [
    "data.shape"
   ]
  },
  {
   "cell_type": "code",
   "execution_count": null,
   "id": "39498e82-d93d-4d69-a635-2749d24d2684",
   "metadata": {},
   "outputs": [],
   "source": [
    "missing_values = data.isnull().sum().sort_values(ascending = False)\n",
    "missing_values = missing_values[missing_values > 0] / data.shape[0]\n",
    "print(f'{missing_values * 100} %')"
   ]
  },
  {
   "cell_type": "markdown",
   "id": "a3a0c7de-7b2f-4b38-bbf3-7deefcb3fccc",
   "metadata": {},
   "source": [
    "Посмотрим, какие типы данных есть в нашем датасете. \n",
    "\n",
    "Выведите на экран тип каждой колонки в таблице."
   ]
  },
  {
   "cell_type": "code",
   "execution_count": null,
   "id": "e929286a-3626-42bb-9f95-77b9acb84a35",
   "metadata": {},
   "outputs": [],
   "source": [
    "#your code here"
   ]
  },
  {
   "cell_type": "markdown",
   "id": "1070b270-ffc1-4040-9328-eb6e6b6a5f50",
   "metadata": {},
   "source": [
    "Обработаем нечисловые колонки.\n",
    "\n",
    "1) Выведите на экран все возможные значения из столбца Gender.\n",
    "\n",
    "2) Замените значение 'M' на 1, а 'F' на 0."
   ]
  },
  {
   "cell_type": "code",
   "execution_count": null,
   "id": "3e2ae1b2-8973-4a77-bbc7-aefa7f9696af",
   "metadata": {},
   "outputs": [],
   "source": [
    "#your code here"
   ]
  },
  {
   "cell_type": "markdown",
   "id": "edfde771-d27a-42f4-8100-97c254b9ee12",
   "metadata": {},
   "source": [
    "Поработаем со столбцом Age.\n",
    "\n",
    "1) Выведите на экран все возможные значения из столбца Age.\n",
    "\n",
    "2) Напишите функцию для перевода каждого диапазона возрастов в число (самые маленькие возрасты - 0, следующий диапазон - 1 и т.д.). Замените значения в столбце Age на числовые, применив эту функцию."
   ]
  },
  {
   "cell_type": "code",
   "execution_count": null,
   "id": "cbd81e97-dabb-486b-9dd5-1be409ebaac3",
   "metadata": {
    "scrolled": true
   },
   "outputs": [],
   "source": [
    "#your code here\n",
    "\n",
    "def map_age(age):\n",
    "    #your code here\n",
    "    \n",
    "data['Age'] = data['Age'].apply(map_age)"
   ]
  },
  {
   "cell_type": "markdown",
   "id": "7f2191dc-e3c7-42ec-ba9d-15dcab13d4c5",
   "metadata": {},
   "source": [
    "Обработаем столбец City_Category.\n",
    "\n",
    "1) Выведите все уникальные значения данного столбца.\n",
    "\n",
    "2) Закодируйте столбец с помощью OneHotEncoding (get_dummies)."
   ]
  },
  {
   "cell_type": "code",
   "execution_count": null,
   "id": "b6ddd92a-eba6-4bc6-a704-5abca45455f9",
   "metadata": {
    "scrolled": true
   },
   "outputs": [],
   "source": [
    "#your code here"
   ]
  },
  {
   "cell_type": "markdown",
   "id": "955cee90-ac98-4327-85e8-e8cf975c9d74",
   "metadata": {},
   "source": [
    "Наконец, обработаем Stay_In_Current_City_Years.\n",
    "\n",
    "1) Выведите на экран все уникальные значения данного столбца.\n",
    "\n",
    "2) Замените '4+' на 4, а все остальные значения оставьте как есть, но переведите их в числовой вид (x -> int(x))."
   ]
  },
  {
   "cell_type": "code",
   "execution_count": null,
   "id": "2a7c3112-7976-40f9-aa74-a70f3c46a753",
   "metadata": {},
   "outputs": [],
   "source": [
    "#your code here\n",
    "\n",
    "def map_stay(years):\n",
    "    #your code here\n",
    "    \n",
    "data['Stay_In_Current_City_Years'] = \\\n",
    "    data['Stay_In_Current_City_Years'].apply(map_stay)"
   ]
  },
  {
   "cell_type": "code",
   "execution_count": null,
   "id": "ce7237e7-be0f-4990-b038-874f2042e8c4",
   "metadata": {},
   "outputs": [],
   "source": [
    "data.head()"
   ]
  },
  {
   "cell_type": "markdown",
   "id": "ebaee0bf-207d-4b6e-92cc-69b2bac51961",
   "metadata": {},
   "source": [
    "Удалим столбцы User_ID и Product_ID."
   ]
  },
  {
   "cell_type": "code",
   "execution_count": null,
   "id": "37ef60ab-9650-4682-abf8-b2bb17acdfa8",
   "metadata": {},
   "outputs": [],
   "source": [
    "#your code here"
   ]
  },
  {
   "cell_type": "code",
   "execution_count": null,
   "id": "7b0217b5-9ce9-4f8b-bb90-e45eb18ac56d",
   "metadata": {},
   "outputs": [],
   "source": [
    "data.head()"
   ]
  },
  {
   "cell_type": "markdown",
   "id": "69e3137f-73da-4770-80ef-e21656ecbe66",
   "metadata": {},
   "source": [
    "# Исследование данных"
   ]
  },
  {
   "cell_type": "markdown",
   "id": "4a8eb60c-0d4c-4cc7-806c-e91780cd0d9b",
   "metadata": {},
   "source": [
    "1. Как влияет пол на целевую переменную Purchase? Постройте диаграмму.\n",
    "\n",
    "2. Как влияет возраст на целевую переменную Purchase? Постройте диаграмму.\n",
    "\n",
    "3. Как влияет City_Category на целевую переменную Purchase? Постройте диаграмму для каждой закодированной категории."
   ]
  },
  {
   "cell_type": "code",
   "execution_count": null,
   "id": "0baa1204-3cb1-48a3-84b3-d4d2db4d1f9a",
   "metadata": {},
   "outputs": [],
   "source": [
    "#your code here"
   ]
  },
  {
   "cell_type": "code",
   "execution_count": null,
   "id": "cd9d4456-d6b7-41e0-8be6-4ee790522b7b",
   "metadata": {},
   "outputs": [],
   "source": [
    "#your code here"
   ]
  },
  {
   "cell_type": "code",
   "execution_count": null,
   "id": "cac9ec2d-bc21-4157-b287-8cede9e32f13",
   "metadata": {},
   "outputs": [],
   "source": [
    "#your code here"
   ]
  },
  {
   "cell_type": "markdown",
   "id": "f4b91e9e-31b9-407b-94cc-f9fc52146c6b",
   "metadata": {},
   "source": [
    "Нарисуйте матрицу корреляций признаков."
   ]
  },
  {
   "cell_type": "code",
   "execution_count": null,
   "id": "3ca0af8b-d1ac-4acf-a020-833931f99009",
   "metadata": {},
   "outputs": [],
   "source": [
    "plt.figure(figsize=(12, 9))\n",
    "\n",
    "#your code here"
   ]
  },
  {
   "cell_type": "markdown",
   "id": "e3f0178e-9a07-465c-96c2-f963909eb24d",
   "metadata": {},
   "source": [
    "# Построение модели"
   ]
  },
  {
   "cell_type": "markdown",
   "id": "de7d3d46-4c7e-47d3-9d97-e728345f6e8a",
   "metadata": {},
   "source": [
    "Применим к нашим данным масштабирование: для того, чтобы модель лучше училась, будет неплохо привести все признаки к одному масштабу, иначе могут возникнуть проблемы с коэффициентами: если какой-то признак принимает очень большие значения, а другой - маленькие, модели будет сложно корректно подобрать веса. \n",
    "\n",
    "Стандартная формула для масштабирования:\n",
    "\n",
    "$\\hat{x} = \\frac{x - \\mu}{\\sigma}$"
   ]
  },
  {
   "cell_type": "code",
   "execution_count": null,
   "id": "088b4f6a-7549-4cd2-8836-2bc49551c8a0",
   "metadata": {},
   "outputs": [],
   "source": [
    "X = data.copy()\n",
    "\n",
    "y = data['Purchase']\n",
    "\n",
    "Xtrain, Xtest, ytrain, ytest = train_test_split(X, y, test_size=0.2, random_state=111)\n",
    "\n",
    "scaler = StandardScaler().fit(Xtrain)\n",
    "Xtrain = scaler.transform(Xtrain)\n",
    "Xtest = scaler.transform(Xtest)\n",
    "\n",
    "regressor = LinearRegression()\n",
    "regressor.fit(Xtrain, ytrain)\n",
    "\n",
    "ypred_train = regressor.predict(Xtrain)\n",
    "ypred_test = regressor.predict(Xtest)\n",
    "print(ypred)"
   ]
  },
  {
   "cell_type": "code",
   "execution_count": null,
   "id": "9bc92fba-d8b5-4909-bfce-0a408188b2c3",
   "metadata": {},
   "outputs": [],
   "source": [
    "r2_score(ytrain,ypred_train), r2_score(ytest,ypred_test)"
   ]
  },
  {
   "cell_type": "code",
   "execution_count": null,
   "id": "b13953f5-a9b8-4d94-a7c6-0f00a3218071",
   "metadata": {},
   "outputs": [],
   "source": [
    "coefficients = pd.concat([pd.DataFrame(X.columns),pd.DataFrame(np.transpose(regressor.coef_))], axis = 1)\n",
    "coefficients"
   ]
  },
  {
   "cell_type": "code",
   "execution_count": null,
   "id": "709c7a30-3259-4d3a-83da-38a640f40768",
   "metadata": {},
   "outputs": [],
   "source": [
    "plot(regressor.coef_)"
   ]
  },
  {
   "cell_type": "markdown",
   "id": "3c13269b-4653-4eaf-9736-69efcd1b1e92",
   "metadata": {},
   "source": [
    "Добавим L1 регуляризацию."
   ]
  },
  {
   "cell_type": "code",
   "execution_count": null,
   "id": "6d5bba15-024d-46bb-a1bf-193da68d7081",
   "metadata": {},
   "outputs": [],
   "source": [
    "regressor2 = Lasso(alpha=10)\n",
    "regressor2.fit(Xtrain, ytrain)\n",
    "\n",
    "ypred2 = regressor2.predict(Xtest)\n",
    "\n",
    "print('Scores:', r2_score(ytest,ypred2), mean_squared_error(ytest,ypred2))\n",
    "print(regressor2.coef_,'\\n')"
   ]
  },
  {
   "cell_type": "markdown",
   "id": "59edf10d-56d5-410c-91e3-04f6e793f9b5",
   "metadata": {},
   "source": [
    "Посмотрим, что происходит при разных значениях параметра регуляризации $\\alpha$"
   ]
  },
  {
   "cell_type": "code",
   "execution_count": null,
   "id": "29ff8315-17c2-4adf-9483-e47e75fb6a8f",
   "metadata": {},
   "outputs": [],
   "source": [
    "for a in np.arange(0.1,100.1,25):\n",
    "    regressor2 = Lasso(alpha=a)\n",
    "    regressor2.fit(Xtrain, ytrain)\n",
    "\n",
    "    ypred2 = regressor2.predict(Xtest)\n",
    "\n",
    "    print('alpha={}'.format(a))\n",
    "    print('Scores:', r2_score(ytest,ypred2), mean_squared_error(ytest,ypred2))\n",
    "    print(regressor2.coef_,'\\n')"
   ]
  },
  {
   "cell_type": "markdown",
   "id": "5e34c3c3-46f1-4bec-baec-10f21952b5f7",
   "metadata": {},
   "source": [
    "**Видим, что L1-регуляризация зануляет некоторые веса и таким образом производит отбор признаков.**"
   ]
  },
  {
   "cell_type": "markdown",
   "id": "5c41c600-bef8-4af2-a5ff-e80f1fe8805f",
   "metadata": {},
   "source": [
    "Подберем оптимальное значение параметра регуляризации по кросс-валидации"
   ]
  },
  {
   "cell_type": "code",
   "execution_count": null,
   "id": "cec0458a-30d1-4be8-9f62-bd5de281581c",
   "metadata": {},
   "outputs": [],
   "source": [
    "from sklearn.linear_model import LassoCV\n",
    "\n",
    "n_alphas = 200\n",
    "alphas = np.linspace(0.1, 10, n_alphas)\n",
    "\n",
    "lasso_cv = LassoCV(alphas=alphas, \n",
    "                   cv=3, random_state=17)\n",
    "lasso_cv.fit(X, y)"
   ]
  },
  {
   "cell_type": "code",
   "execution_count": null,
   "id": "6e40f234-3d1f-4d7d-ba86-2301be6f3d8c",
   "metadata": {},
   "outputs": [],
   "source": [
    "lasso_cv.coef_"
   ]
  },
  {
   "cell_type": "code",
   "execution_count": null,
   "id": "13e4b585-7ac1-4580-a77f-25c2cee6964d",
   "metadata": {},
   "outputs": [],
   "source": [
    "lasso_cv.alpha_"
   ]
  },
  {
   "cell_type": "markdown",
   "id": "1994bd0b-4fb2-4526-b228-f2be44b4fa3a",
   "metadata": {},
   "source": [
    "Обучим модель с найденным параметром регуляризации $\\alpha$"
   ]
  },
  {
   "cell_type": "code",
   "execution_count": null,
   "id": "6bd32da5-a791-4a7d-86b3-e0f90613df92",
   "metadata": {},
   "outputs": [],
   "source": [
    "regressor2 = Lasso(alpha=lasso_cv.alpha_)\n",
    "\n",
    "regressor2.fit(Xtrain, ytrain)\n",
    "\n",
    "ypred2_train = regressor2.predict(Xtrain)\n",
    "ypred2_test = regressor2.predict(Xtest)\n",
    "\n",
    "print('Scores:', r2_score(ytrain,ypred2_train), r2_score(ytest,ypred2_test))"
   ]
  },
  {
   "cell_type": "markdown",
   "id": "6b13c811-d984-4c97-9265-de2d7ce3f224",
   "metadata": {},
   "source": [
    "Добавим L2 регуляризацию."
   ]
  },
  {
   "cell_type": "code",
   "execution_count": null,
   "id": "73d3b5db-1758-4ea6-9a99-0aa93a29212a",
   "metadata": {},
   "outputs": [],
   "source": [
    "from sklearn.linear_model import Ridge\n",
    "\n",
    "for a in np.arange(-10,10.1,2.5):\n",
    "    regressor3 = Ridge(alpha=a)\n",
    "    regressor3.fit(Xtrain, ytrain)\n",
    "\n",
    "    ypred3 = regressor3.predict(Xtest)\n",
    "\n",
    "    print('alpha={}'.format(a))\n",
    "    print('Scores:',r2_score(ytest,ypred3), mean_squared_error(ytest,ypred3))\n",
    "    print(regressor3.coef_)"
   ]
  },
  {
   "cell_type": "markdown",
   "id": "848cf516-7df9-4ddb-a22c-cec4cb8e0f24",
   "metadata": {},
   "source": [
    "**Ridge регрессия не зануляет веса (они могут быть очень маленькими, но ненулевыми).**"
   ]
  },
  {
   "cell_type": "markdown",
   "id": "69b7d9a7-738d-4770-8cbc-7a15acdad037",
   "metadata": {},
   "source": [
    "Теперь подберем оптимальное a по кросс-валидации."
   ]
  },
  {
   "cell_type": "code",
   "execution_count": null,
   "id": "956af7db-0c96-458a-8620-1ee71b7455b9",
   "metadata": {},
   "outputs": [],
   "source": [
    "from sklearn.linear_model import RidgeCV\n",
    "\n",
    "n_alphas = 200\n",
    "ridge_alphas = np.logspace(-2, 6, n_alphas)\n",
    "\n",
    "ridge_cv = RidgeCV(alphas=ridge_alphas, \n",
    "                   scoring='neg_mean_squared_error',\n",
    "                   cv=3)\n",
    "ridge_cv.fit(X, y)"
   ]
  },
  {
   "cell_type": "code",
   "execution_count": null,
   "id": "6650675a-05e1-45e0-aaaa-f2e3328a7899",
   "metadata": {},
   "outputs": [],
   "source": [
    "ridge_cv.alpha_"
   ]
  },
  {
   "cell_type": "code",
   "execution_count": null,
   "id": "37c0d215-22e2-468e-bf44-243268bcbd26",
   "metadata": {},
   "outputs": [],
   "source": [
    "regressor3 = Lasso(alpha=ridge_cv.alpha_)\n",
    "\n",
    "regressor3.fit(Xtrain, ytrain)\n",
    "\n",
    "ypred3_train = regressor3.predict(Xtrain)\n",
    "ypred3_test = regressor3.predict(Xtest)\n",
    "\n",
    "print('Scores:', r3_score(ytrain,ypred3_train), r2_score(ytest,ypred3_test))"
   ]
  },
  {
   "cell_type": "markdown",
   "id": "a8ed78d8-3448-4b70-8f4d-5e5c22635480",
   "metadata": {},
   "source": [
    "Добавим одновременно и L1, и L2 регуляризацию.\n",
    "\n",
    "У ElasticNet два параметра: alpha и l1_ratio. Используйте ElasticNet со значениями параметров alpha и l1_ratio равными 0.5.\n",
    "\n",
    "https://scikit-learn.org/stable/modules/generated/sklearn.linear_model.ElasticNet.html"
   ]
  },
  {
   "cell_type": "code",
   "execution_count": null,
   "id": "0eb29d89-80f5-4ca2-bc49-f25460dd7dce",
   "metadata": {},
   "outputs": [],
   "source": [
    "from sklearn.linear_model import ElasticNet\n",
    "\n",
    "#your code here"
   ]
  },
  {
   "cell_type": "markdown",
   "id": "73e78caa-4cee-452a-b78a-77e81a561de8",
   "metadata": {},
   "source": [
    "### Посмотрим на веса, которые присвоила линейная регрессия признакам (regressor.coef_)."
   ]
  },
  {
   "cell_type": "code",
   "execution_count": null,
   "id": "2c6a2c71-8071-4b4b-9325-b6ec31aebfb5",
   "metadata": {},
   "outputs": [],
   "source": [
    "#your code here\n",
    "regressor3.coef_"
   ]
  },
  {
   "cell_type": "markdown",
   "id": "82a67228-bea3-424d-a35e-071bb0159d1f",
   "metadata": {},
   "source": [
    "Можно записать эти веса в таблицу рядом с названиями признаков (для удобства)."
   ]
  },
  {
   "cell_type": "code",
   "execution_count": null,
   "id": "62a62653-850a-45c6-a595-4a41d33109fb",
   "metadata": {},
   "outputs": [],
   "source": [
    "coefficients = pd.concat([pd.DataFrame(X.columns),pd.DataFrame(np.transpose(regressor3.coef_))], axis = 1)\n",
    "coefficients"
   ]
  },
  {
   "cell_type": "code",
   "execution_count": null,
   "id": "31c60e6b-2faa-412c-baa5-f032f714fd5d",
   "metadata": {},
   "outputs": [],
   "source": [
    "len(data),len(Xtest)"
   ]
  },
  {
   "cell_type": "markdown",
   "id": "4ae327ba-1563-4e1c-a8fa-bc6599304081",
   "metadata": {},
   "source": [
    "# Задание 2\n",
    "\n",
    "Поработайте с датасетом affairs. Предскажите значение в колонке affairs по остальным факторам.\n",
    "\n",
    "1. Сначала проведите разведочный анализ, а именно, исследуйте зависимость таргета от каждого фактора (или пары факторов).\n",
    "\n",
    "2. Обучите линейную регрессию, посмотрите на качество на кросс-валидации, затем разбейте данные на train и test,\n",
    "обучите алгоритм на train и сделайте предсказания на train и test, выведите ошибки.\n",
    "\n",
    "3. Посмотрите на матрицу корреляций факторов и целевой переменной. \n",
    "Если есть пары сильно коррелирующих между собой факторов, удалите один из пары.\n",
    "\n",
    "Если есть факторы, слабо коррелирующие с таргетом, удалите их.\n",
    "\n",
    "Заново обучите алгоритм на обновленных данных. Как изменилось его качество?"
   ]
  },
  {
   "cell_type": "code",
   "execution_count": null,
   "id": "ed2e9205-aab1-4a61-8bc0-ae88320e9391",
   "metadata": {},
   "outputs": [],
   "source": [
    "#your code here"
   ]
  },
  {
   "cell_type": "markdown",
   "id": "7f9f427c-8879-4d9c-aa5e-ac2fc2226ec9",
   "metadata": {},
   "source": [
    "# Задание 3. \n",
    "\n",
    "Поработайте с датасетом House Sales in King County. Обратите внимание, что не все признаки в датасете полезны. Целевая переменная - очевидно, price. "
   ]
  },
  {
   "cell_type": "code",
   "execution_count": null,
   "id": "5899c95c-7362-4448-873d-3b3f55997fd3",
   "metadata": {},
   "outputs": [],
   "source": [
    "#your code here"
   ]
  }
 ],
 "metadata": {
  "kernelspec": {
   "display_name": "Python 3 (ipykernel)",
   "language": "python",
   "name": "python3"
  },
  "language_info": {
   "codemirror_mode": {
    "name": "ipython",
    "version": 3
   },
   "file_extension": ".py",
   "mimetype": "text/x-python",
   "name": "python",
   "nbconvert_exporter": "python",
   "pygments_lexer": "ipython3",
   "version": "3.9.12"
  }
 },
 "nbformat": 4,
 "nbformat_minor": 5
}

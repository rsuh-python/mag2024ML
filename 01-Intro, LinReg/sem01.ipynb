{
 "cells": [
  {
   "cell_type": "markdown",
   "id": "798e8658-a6f1-457f-8230-be6ffb86d538",
   "metadata": {},
   "source": [
    "# Линейная регрессия"
   ]
  },
  {
   "cell_type": "markdown",
   "id": "9ac08ac5-b52e-405a-bd19-96c9f8432e45",
   "metadata": {},
   "source": [
    "# Задание 1\n",
    "\n",
    "Считаем наш датасет: файл, в котором содержится информация об объеме батарейки телефона (мАч) и его цене. "
   ]
  },
  {
   "cell_type": "code",
   "execution_count": null,
   "id": "d036e8f3-5eb8-42e3-bc8c-c1e6086cabcf",
   "metadata": {},
   "outputs": [],
   "source": [
    "import pandas as pd\n",
    "\n",
    "data = pd.read_csv('phones.csv')"
   ]
  },
  {
   "cell_type": "markdown",
   "id": "f2efb2d7-e2ef-44c5-b2e5-28dd98ba318e",
   "metadata": {},
   "source": [
    "Посмотрим на данные, узнаем, сколько их."
   ]
  },
  {
   "cell_type": "code",
   "execution_count": null,
   "id": "514a55e0-07eb-457f-a400-8dec0ce20ba0",
   "metadata": {
    "scrolled": true
   },
   "outputs": [],
   "source": [
    "data.head()"
   ]
  },
  {
   "cell_type": "code",
   "execution_count": null,
   "id": "add16fe9-493d-4506-9ab5-bfb12668b452",
   "metadata": {},
   "outputs": [],
   "source": [
    "data.shape"
   ]
  },
  {
   "cell_type": "markdown",
   "id": "7484579d-9de1-4e6b-8288-f5ab5f05cee9",
   "metadata": {},
   "source": [
    "### Разобьем данные на тренировочную и тестовую выборки"
   ]
  },
  {
   "cell_type": "code",
   "execution_count": null,
   "id": "2a4d0039-c1f5-4425-88f9-ad936717a645",
   "metadata": {},
   "outputs": [],
   "source": [
    "from sklearn.model_selection import train_test_split\n",
    "\n",
    "X = df[['battery']] # у нас всего один признак, но sklearn ждет от нас матрицу, поэтому мы не можем взять просто один столбец\n",
    "y = df.price\n",
    "\n",
    "Xtrain, Xtest, ytrain, ytest = train_test_split(X, y, test_size=0.2, random_state=42)"
   ]
  },
  {
   "cell_type": "markdown",
   "id": "c0912a3b-2074-4658-8a08-b5792cfcab87",
   "metadata": {},
   "source": [
    "# Проверим, как работает функция линейной регрессии из sklearn"
   ]
  },
  {
   "cell_type": "code",
   "execution_count": null,
   "id": "6a282e48-9c02-4a58-a028-fd50902911b0",
   "metadata": {},
   "outputs": [],
   "source": [
    "from sklearn.linear_model import LinearRegression\n",
    "from sklearn.metrics import mean_squared_error\n",
    "\n",
    "model = LinearRegression()\n",
    "\n",
    "model.fit(Xtrain, ytrain) # обучение модели\n",
    "\n",
    "coef = float(model.coef_.item()) # веса при признаках\n",
    "intercept = model.intercept_ # свободный коэффициент (w0)\n",
    "print(f'''\n",
    "Вес при признаке \"размер батарейки\": {coef:.3f},\n",
    "Свободный коэффициент:  {intercept:.3f}''')"
   ]
  },
  {
   "cell_type": "markdown",
   "id": "985c3103-7a59-418b-b9cc-45708be79bb0",
   "metadata": {},
   "source": [
    "$ Weight = w_0 + w_1\\cdot Height$\n",
    "\n",
    "$ Weight = 5.478 + 9.999\\cdot Height$"
   ]
  },
  {
   "cell_type": "markdown",
   "id": "c4c7d49f-1ec7-43ba-b261-31e33dd66e58",
   "metadata": {},
   "source": [
    "Возьмем любую пару \"объем батарейки\" и \"цена\" из датафрейма. Проверим, что если подставить их в нашу формулу, получится что-то похожее"
   ]
  },
  {
   "cell_type": "code",
   "execution_count": null,
   "id": "ddbeac88-7138-4bba-ac90-37a594883696",
   "metadata": {},
   "outputs": [],
   "source": [
    "x = data['battery'][0]\n",
    "y = data['price'][0]"
   ]
  },
  {
   "cell_type": "code",
   "execution_count": null,
   "id": "6679a11c-39bf-4f8b-9679-814c1b097ea3",
   "metadata": {},
   "outputs": [],
   "source": [
    "y"
   ]
  },
  {
   "cell_type": "code",
   "execution_count": null,
   "id": "d23c137b-bd80-4d18-9943-16e2dc33e4e7",
   "metadata": {},
   "outputs": [],
   "source": [
    "intercept + x * coef"
   ]
  },
  {
   "cell_type": "code",
   "execution_count": null,
   "id": "3d4c140f-ca70-4f7f-87a9-f57645bd5204",
   "metadata": {},
   "outputs": [],
   "source": [
    "pred_test = model.predict(Xtest) # делаем предсказание\n",
    "\n",
    "mean_squared_error(pred_test, ytest) ** 0.5 # ошибка примерно 60 рублей"
   ]
  },
  {
   "cell_type": "code",
   "execution_count": null,
   "id": "2079c7a4-48cf-4917-9d1b-b0bfecd24e2b",
   "metadata": {},
   "outputs": [],
   "source": [
    "pred_train = model.predict(Xtrain)\n",
    "\n",
    "mean_squared_error(pred_train, ytrain) ** 0.5"
   ]
  },
  {
   "cell_type": "markdown",
   "id": "98b8fbba-108c-40e8-a776-6eb36b02519b",
   "metadata": {},
   "source": [
    "Модель не переобучена. Как мы это поняли?"
   ]
  },
  {
   "cell_type": "markdown",
   "id": "6f82975b-1c85-4ebc-ad18-acc03d792cb8",
   "metadata": {},
   "source": [
    "### Это тот редкий случай, когда мы можем изобразить график с линейной регрессией."
   ]
  },
  {
   "cell_type": "code",
   "execution_count": null,
   "id": "098ddd89-9b70-4813-90e0-55250b5d6894",
   "metadata": {},
   "outputs": [],
   "source": [
    "from matplotlib import pylab as plt\n",
    "\n",
    "plt.scatter(data['battery'][:50], data['price'][:50])\n",
    "\n",
    "plt.plot(X[:50], coef * X[:50] + intercept, 'r')\n",
    "plt.show()"
   ]
  },
  {
   "cell_type": "markdown",
   "id": "21dea956-f77f-4e55-a585-406b8fea3928",
   "metadata": {},
   "source": [
    "# Задание 2\n",
    "\n",
    "Поработаем с датасетом Medical insurance costs."
   ]
  },
  {
   "cell_type": "code",
   "execution_count": null,
   "id": "c69af546-f17f-4ec8-8184-eebc5cbd518c",
   "metadata": {},
   "outputs": [],
   "source": [
    "data = pd.read_csv('insurance.csv')\n",
    "data.head()"
   ]
  },
  {
   "cell_type": "code",
   "execution_count": null,
   "id": "15a70f72-3438-4ce8-92f8-614c4a941eec",
   "metadata": {},
   "outputs": [],
   "source": [
    "data.sex = data.sex.apply(lambda x: 0 if x == 'male' else 1)\n",
    "data.smoker = data.smoker.apply(lambda x: 0 if x == 'no' else 1)\n",
    "data = pd.get_dummies(data, 'region', drop_first=True)"
   ]
  },
  {
   "cell_type": "code",
   "execution_count": null,
   "id": "13e3ebc0-6438-40e9-bfb7-352b5314decf",
   "metadata": {},
   "outputs": [],
   "source": [
    "data.info()"
   ]
  },
  {
   "cell_type": "code",
   "execution_count": null,
   "id": "01fc9513-397e-4020-bb97-3fc3c23cdc76",
   "metadata": {},
   "outputs": [],
   "source": [
    "y = data.charges\n",
    "X = data.drop('charges', axis=1)"
   ]
  },
  {
   "cell_type": "markdown",
   "id": "218e3150-3ad3-4fba-9b98-bb4ab16b2b56",
   "metadata": {},
   "source": [
    "Разбейте данные на train и test. Обучите линейную регрессию на train и сделайте предсказание на train и test."
   ]
  },
  {
   "cell_type": "code",
   "execution_count": null,
   "id": "29e2bd16-c150-4bda-9ef4-00983011aef1",
   "metadata": {},
   "outputs": [],
   "source": [
    "# your code here\n",
    "Xtrain, Xtest, ytrain, ytest = train_test_split(X, y, test_size=0.2, random_state=42)\n",
    "\n",
    "model = LinearRegression()\n",
    "model.fit(Xtrain, ytrain) # обучение модели\n",
    "pred_train = model.predict(Xtrain)\n",
    "pred_test = model.predict(Xtest)"
   ]
  },
  {
   "cell_type": "markdown",
   "id": "424659c6-5e0e-4ec3-a35e-0f9ec7839670",
   "metadata": {},
   "source": [
    "Выведите MSE на train и на test. Выведите RMSE. На сколько в среднем мы ошибаемся на train и test? Модель переобучена, недообучена или все ок?"
   ]
  },
  {
   "cell_type": "code",
   "execution_count": null,
   "id": "c6aec087-38f9-423c-ab4f-6c03ec2e4701",
   "metadata": {},
   "outputs": [],
   "source": [
    "mean_squared_error(pred_test, ytest) ** 0.5 "
   ]
  },
  {
   "cell_type": "code",
   "execution_count": null,
   "id": "3ef59352-e9cc-4a91-9c80-1a2584aba51a",
   "metadata": {},
   "outputs": [],
   "source": [
    "mean_squared_error(pred_train, ytrain) ** 0.5"
   ]
  },
  {
   "cell_type": "markdown",
   "id": "84d7aa31-6411-43ee-96d2-066f2ae3f8e5",
   "metadata": {},
   "source": [
    "Нарисуем матрицу корреляций признаков."
   ]
  },
  {
   "cell_type": "code",
   "execution_count": null,
   "id": "32ef4122-5fb2-4ba0-a939-b4f16b3c1f4e",
   "metadata": {},
   "outputs": [],
   "source": [
    "import seaborn as sns\n",
    "import numpy as np\n",
    "\n",
    "plt.figure(figsize=(12,9))\n",
    "\n",
    "corr = data.corr()\n",
    "\n",
    "sns.heatmap(corr,annot=True,linewidths=.5,fmt= '.2f',\\\n",
    "            mask=np.zeros_like(corr, dtype=bool), \\\n",
    "            cmap=sns.diverging_palette(100,200,as_cmap=True), square=True)"
   ]
  },
  {
   "cell_type": "markdown",
   "id": "bbee632c-e6bd-4ffd-a820-4d72372ba7e1",
   "metadata": {},
   "source": [
    "Мы можем удалять признаки"
   ]
  },
  {
   "cell_type": "code",
   "execution_count": null,
   "id": "bb128e79-4c32-4592-b0c4-9cb4c10b6133",
   "metadata": {},
   "outputs": [],
   "source": [
    "del data['region_northwest']"
   ]
  },
  {
   "cell_type": "markdown",
   "id": "a0b959b5-4b6c-41c3-af27-1a9548d29274",
   "metadata": {},
   "source": [
    "Создавать новые из уже существующих"
   ]
  },
  {
   "cell_type": "code",
   "execution_count": null,
   "id": "1c6dbf87-2fee-44a7-9474-8f9779c38a0f",
   "metadata": {},
   "outputs": [],
   "source": [
    "data['smoker'] = data['smoker'] ** 2"
   ]
  },
  {
   "cell_type": "markdown",
   "id": "817c4c88-ad01-494c-a6b9-f4cf6c35e492",
   "metadata": {},
   "source": [
    "Посмотрим на новую матрицу объект-признак"
   ]
  },
  {
   "cell_type": "code",
   "execution_count": null,
   "id": "30203278-bf3b-452e-a874-7138bb980810",
   "metadata": {},
   "outputs": [],
   "source": [
    "y = data.charges\n",
    "X = data.drop('charges', axis=1)\n",
    "\n",
    "X.head()"
   ]
  },
  {
   "cell_type": "code",
   "execution_count": null,
   "id": "eef8d33f-9040-41bb-bd5a-c3fa0c23f973",
   "metadata": {},
   "outputs": [],
   "source": [
    "Xtrain, Xtest, ytrain, ytest = train_test_split(X, y, test_size=0.2, random_state=42)\n",
    "model = LinearRegression()\n",
    "model.fit(Xtrain, ytrain) # обучение модели\n",
    "pred_train = model.predict(Xtrain)\n",
    "pred_test = model.predict(Xtest)\n",
    "print(mean_squared_error(pred_test, ytest) ** 0.5, mean_squared_error(pred_train, ytrain) ** 0.5)"
   ]
  },
  {
   "cell_type": "markdown",
   "id": "12d5f9f2-9746-4f89-af83-031a37573553",
   "metadata": {},
   "source": [
    "Можем изучить каждый признак в отдельности, изучить его распределение с ЦП"
   ]
  },
  {
   "cell_type": "code",
   "execution_count": null,
   "id": "91100d5c-4363-42cc-bc7d-8cdeda894bff",
   "metadata": {},
   "outputs": [],
   "source": [
    "for c in data.columns:\n",
    "    if c != 'charges':\n",
    "        print(c)\n",
    "        plt.scatter(data[c], data['charges'])\n",
    "        plt.show()"
   ]
  },
  {
   "cell_type": "markdown",
   "id": "45a61b3d-9fef-4c7e-bc16-b0a7ab79d7d0",
   "metadata": {},
   "source": [
    "# Задание 3. \n",
    "\n",
    "Возьмем датасет про доставку еды: в нашем датасете есть базовая информация о доставке (на каком транспортном средстве ехал курьер, было это утром, днем или вечером, в какую погоду и так далее). Проверьте, нет ли в датасете пропущенных ячеек: scikit-learn не умеет работать с отсутствующими данными, их нужно убрать или каким-либо образом заполнить. Используйте One Hot Encoding для категориальных признаков. Обучите линейную регрессию для предсказания времени доставки и посчитайте, на сколько минут в среднем ошибается ваша модель. я?"
   ]
  },
  {
   "cell_type": "code",
   "execution_count": null,
   "id": "642af4c4-2fdc-4cf9-8321-0bc8695ca37c",
   "metadata": {},
   "outputs": [],
   "source": [
    "# your code here"
   ]
  },
  {
   "cell_type": "code",
   "execution_count": null,
   "id": "8bb3e14a-15dd-43ce-a838-6cc7ec77f87d",
   "metadata": {},
   "outputs": [],
   "source": []
  }
 ],
 "metadata": {
  "kernelspec": {
   "display_name": "Python 3 (ipykernel)",
   "language": "python",
   "name": "python3"
  },
  "language_info": {
   "codemirror_mode": {
    "name": "ipython",
    "version": 3
   },
   "file_extension": ".py",
   "mimetype": "text/x-python",
   "name": "python",
   "nbconvert_exporter": "python",
   "pygments_lexer": "ipython3",
   "version": "3.10.11"
  }
 },
 "nbformat": 4,
 "nbformat_minor": 5
}

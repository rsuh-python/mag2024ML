{
 "cells": [
  {
   "cell_type": "code",
   "execution_count": null,
   "id": "0caa3fb7-969f-44ca-af71-58a1af90c98a",
   "metadata": {},
   "outputs": [],
   "source": [
    "import gensim.downloader as api\n",
    "wv = api.load('word2vec-google-news-300')"
   ]
  },
  {
   "cell_type": "code",
   "execution_count": null,
   "id": "c63c080b-2417-4ae9-b1b6-38f4c3d355ee",
   "metadata": {},
   "outputs": [],
   "source": [
    "print(wv.most_similar(positive=['morning', 'evening'], topn=5))"
   ]
  },
  {
   "cell_type": "code",
   "execution_count": null,
   "id": "dc9a51d2-d94f-477a-bf42-70bfc937e93a",
   "metadata": {},
   "outputs": [],
   "source": [
    "print(wv.doesnt_match(['fire', 'water', 'land', 'sea', 'air', 'car']))"
   ]
  },
  {
   "cell_type": "code",
   "execution_count": null,
   "id": "47a2c7e9-0084-40cf-b689-4be6bf51e80b",
   "metadata": {},
   "outputs": [],
   "source": [
    "pairs = [\n",
    "    ('morning', 'evening'),   \n",
    "    ('morning', 'night'),   \n",
    "    ('morning', 'time'),  \n",
    "    ('morning', 'sun'),   \n",
    "    ('morning', 'fraternity'),\n",
    "]\n",
    "for w1, w2 in pairs:\n",
    "    print(f'{w1}\\t{w2}\\t\\t{wv.similarity(w1, w2):.2f}')"
   ]
  },
  {
   "cell_type": "code",
   "execution_count": null,
   "id": "751d5f9a-c876-49f2-9b97-fbd445c352db",
   "metadata": {},
   "outputs": [],
   "source": []
  }
 ],
 "metadata": {
  "kernelspec": {
   "display_name": "Python 3 (ipykernel)",
   "language": "python",
   "name": "python3"
  },
  "language_info": {
   "codemirror_mode": {
    "name": "ipython",
    "version": 3
   },
   "file_extension": ".py",
   "mimetype": "text/x-python",
   "name": "python",
   "nbconvert_exporter": "python",
   "pygments_lexer": "ipython3",
   "version": "3.9.12"
  }
 },
 "nbformat": 4,
 "nbformat_minor": 5
}

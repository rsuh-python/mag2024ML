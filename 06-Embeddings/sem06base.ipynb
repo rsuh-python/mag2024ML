{
 "cells": [
  {
   "cell_type": "code",
   "execution_count": null,
   "id": "7f70ec57-f98f-408d-ad5f-5e23bb3a15c5",
   "metadata": {},
   "outputs": [],
   "source": [
    "import pandas as pd\n",
    "import numpy as np\n",
    "from sklearn.metrics import *\n",
    "from sklearn.model_selection import train_test_split\n",
    "from sklearn.pipeline import Pipeline"
   ]
  },
  {
   "cell_type": "code",
   "execution_count": null,
   "id": "ca2ab105-61ee-4b4f-8192-dee616f1bc53",
   "metadata": {},
   "outputs": [],
   "source": [
    "positive = pd.read_csv('positive.csv', sep=';', usecols=[3], names=['text'])\n",
    "positive['label'] = ['positive'] * len(positive)\n",
    "negative = pd.read_csv('negative.csv', sep=';', usecols=[3], names=['text'])\n",
    "negative['label'] = ['negative'] * len(negative)\n",
    "df = pd.concat([positive, negative])"
   ]
  },
  {
   "cell_type": "code",
   "execution_count": null,
   "id": "dc56cbe2-45f4-4537-9192-dde9e2cd1d61",
   "metadata": {},
   "outputs": [],
   "source": [
    "df.head()"
   ]
  },
  {
   "cell_type": "code",
   "execution_count": null,
   "id": "a7fb6f92-8d65-46c5-8847-5266bbff065d",
   "metadata": {},
   "outputs": [],
   "source": [
    "df.shape"
   ]
  },
  {
   "cell_type": "code",
   "execution_count": null,
   "id": "73d83933-2a7a-434d-b374-1bed9b9c7e70",
   "metadata": {},
   "outputs": [],
   "source": [
    "x_train, x_test, y_train, y_test = train_test_split(df.text, df.label)"
   ]
  },
  {
   "cell_type": "code",
   "execution_count": null,
   "id": "bbfa52e5-002b-4117-9122-2235f1fe1800",
   "metadata": {},
   "outputs": [],
   "source": [
    "from sklearn.linear_model import LogisticRegression\n",
    "from sklearn.feature_extraction.text import CountVectorizer"
   ]
  },
  {
   "cell_type": "code",
   "execution_count": null,
   "id": "306f59e7-732e-4ac4-a358-b0e83d572bd5",
   "metadata": {},
   "outputs": [],
   "source": [
    "from nltk import ngrams"
   ]
  },
  {
   "cell_type": "code",
   "execution_count": null,
   "id": "65c8fb12-ba0d-42a0-bcf8-5e52d1526135",
   "metadata": {},
   "outputs": [],
   "source": [
    "sent = 'Если б мне платили каждый раз'.split()\n",
    "list(ngrams(sent, 1))"
   ]
  },
  {
   "cell_type": "code",
   "execution_count": null,
   "id": "ed042113-e736-446d-9d9a-d5eb13128a58",
   "metadata": {},
   "outputs": [],
   "source": [
    "list(ngrams(sent, 2))"
   ]
  },
  {
   "cell_type": "code",
   "execution_count": null,
   "id": "c0fcf69b-113e-412a-9501-8950bac7a1f8",
   "metadata": {},
   "outputs": [],
   "source": [
    "vec = CountVectorizer(ngram_range=(1, 1))\n",
    "bow = vec.fit_transform(x_train)"
   ]
  },
  {
   "cell_type": "code",
   "execution_count": null,
   "id": "025ff0d7-f578-4d46-aa23-756b3f571012",
   "metadata": {},
   "outputs": [],
   "source": [
    "list(vec.vocabulary_.items())[:10]"
   ]
  },
  {
   "cell_type": "code",
   "execution_count": null,
   "id": "b9b0624f-fecf-4769-ace3-5c06b46e1576",
   "metadata": {},
   "outputs": [],
   "source": [
    "clf = LogisticRegression(solver='liblinear', random_state=42)\n",
    "clf.fit(bow, y_train)"
   ]
  },
  {
   "cell_type": "code",
   "execution_count": null,
   "id": "50815c73-471e-4d73-9a27-0722ce594801",
   "metadata": {},
   "outputs": [],
   "source": [
    "pred = clf.predict(vec.transform(x_test))\n",
    "print(classification_report(pred, y_test))"
   ]
  },
  {
   "cell_type": "code",
   "execution_count": null,
   "id": "8bc2ff10-462e-4363-b04b-b54bf328c1cd",
   "metadata": {},
   "outputs": [],
   "source": [
    "vec = CountVectorizer(ngram_range=(2, 3))\n",
    "bow = vec.fit_transform(x_train)\n",
    "clf = LogisticRegression(solver='liblinear', random_state=42)\n",
    "clf.fit(bow, y_train)\n",
    "pred = clf.predict(vec.transform(x_test))\n",
    "print(classification_report(pred, y_test))"
   ]
  },
  {
   "cell_type": "markdown",
   "id": "eea54b95-69c5-40d1-b5cb-8a5376dba866",
   "metadata": {},
   "source": [
    "### TF-IDF"
   ]
  },
  {
   "cell_type": "code",
   "execution_count": null,
   "id": "485a7fe3-cec4-4dfc-8a77-ee3c58ea2ec0",
   "metadata": {},
   "outputs": [],
   "source": [
    "from sklearn.feature_extraction.text import TfidfVectorizer"
   ]
  },
  {
   "cell_type": "code",
   "execution_count": null,
   "id": "1f8659d5-ed3f-444f-ae2c-52b916921c49",
   "metadata": {},
   "outputs": [],
   "source": [
    "vec = TfidfVectorizer(ngram_range=(1, 1))\n",
    "bow = vec.fit_transform(x_train)\n",
    "clf = LogisticRegression(solver='liblinear', random_state=42)\n",
    "clf.fit(bow, y_train)\n",
    "pred = clf.predict(vec.transform(x_test))\n",
    "print(classification_report(pred, y_test))"
   ]
  },
  {
   "cell_type": "code",
   "execution_count": null,
   "id": "bee68af5-b465-4c72-8f58-a24fd63beff6",
   "metadata": {},
   "outputs": [],
   "source": [
    "import nltk\n",
    "from nltk.tokenize import word_tokenize\n",
    "nltk.download('punkt')"
   ]
  },
  {
   "cell_type": "code",
   "execution_count": null,
   "id": "7c2aa71a-fec9-4be6-882c-907f0d5b0d18",
   "metadata": {},
   "outputs": [],
   "source": [
    "example = 'Это был плохой опыт:('\n",
    "word_tokenize(example)"
   ]
  },
  {
   "cell_type": "markdown",
   "id": "7e5c256b-3023-4753-a7b6-c06b0ec3c8f9",
   "metadata": {},
   "source": [
    "### Стоп-слова и пунктуация"
   ]
  },
  {
   "cell_type": "code",
   "execution_count": null,
   "id": "6dfc4dee-4037-4868-a255-bf0464219b73",
   "metadata": {},
   "outputs": [],
   "source": [
    "from nltk.corpus import stopwords\n",
    "nltk.download('stopwords')\n",
    "print(stopwords.words('russian'))"
   ]
  },
  {
   "cell_type": "code",
   "execution_count": null,
   "id": "b147cedf-820e-4ae6-bda0-fa082cd3a792",
   "metadata": {},
   "outputs": [],
   "source": [
    "from string import punctuation\n",
    "punctuation"
   ]
  },
  {
   "cell_type": "code",
   "execution_count": null,
   "id": "db25dd06-344f-45e7-b420-dcc0e8362b7f",
   "metadata": {},
   "outputs": [],
   "source": [
    "noise = stopwords.words('russian') + list(punctuation)"
   ]
  },
  {
   "cell_type": "code",
   "execution_count": null,
   "id": "1fa69d8e-c92c-40f5-8bd9-88e8019de3b4",
   "metadata": {},
   "outputs": [],
   "source": [
    "vec = CountVectorizer(ngram_range=(1, 1), tokenizer=word_tokenize, stop_words=noise)\n",
    "bow = vec.fit_transform(x_train)\n",
    "clf = LogisticRegression(solver='liblinear', random_state=42)\n",
    "clf.fit(bow, y_train)\n",
    "pred = clf.predict(vec.transform(x_test))\n",
    "print(classification_report(pred, y_test))"
   ]
  },
  {
   "cell_type": "code",
   "execution_count": null,
   "id": "a06e03ab-79aa-49de-84d2-36ee2fde5c52",
   "metadata": {},
   "outputs": [],
   "source": [
    "!pip install razdel"
   ]
  },
  {
   "cell_type": "code",
   "execution_count": null,
   "id": "c1bab123-be35-4380-acc7-a14e927a5093",
   "metadata": {},
   "outputs": [],
   "source": [
    "from razdel import tokenize\n",
    "\n",
    "def tokenizer(string):\n",
    "    return [x.text for x in tokenize(string)]"
   ]
  },
  {
   "cell_type": "code",
   "execution_count": null,
   "id": "03c3778c-32b3-48c6-b813-5160662540bc",
   "metadata": {},
   "outputs": [],
   "source": [
    "tokenizer(example)"
   ]
  },
  {
   "cell_type": "code",
   "execution_count": null,
   "id": "ebeab27d-2dba-4225-8f76-1c46551282b5",
   "metadata": {},
   "outputs": [],
   "source": [
    "vec = CountVectorizer(ngram_range=(1, 1), tokenizer=tokenizer, stop_words=noise)\n",
    "bow = vec.fit_transform(x_train)\n",
    "clf = LogisticRegression(solver='liblinear', random_state=42)\n",
    "clf.fit(bow, y_train)\n",
    "pred = clf.predict(vec.transform(x_test))\n",
    "print(classification_report(pred, y_test))"
   ]
  },
  {
   "cell_type": "code",
   "execution_count": null,
   "id": "5cc4b77c-3723-4e69-a11f-d555310abc4b",
   "metadata": {},
   "outputs": [],
   "source": [
    "import pymorphy2\n",
    "\n",
    "morph = pymorphy2.MorphAnalyzer()\n"
   ]
  },
  {
   "cell_type": "code",
   "execution_count": null,
   "id": "37e1462f-0c37-4748-bc5d-ed89320aa8de",
   "metadata": {},
   "outputs": [],
   "source": [
    "def lemmatize(string):\n",
    "    return [morph.parse(token)[0].normal_form for token in tokenizer(string)]\n",
    "\n",
    "print(lemmatize(example))"
   ]
  },
  {
   "cell_type": "code",
   "execution_count": null,
   "id": "ebb4feee-3e05-4055-8ee8-5d64b232c98b",
   "metadata": {},
   "outputs": [],
   "source": [
    "vec = TfidfVectorizer(ngram_range=(1, 1), tokenizer=lemmatize)\n",
    "bow = vec.fit_transform(x_train)\n",
    "clf = LogisticRegression(random_state=42)\n",
    "clf.fit(bow, y_train)\n",
    "pred = clf.predict(vec.transform(x_test))\n",
    "print(classification_report(pred, y_test))"
   ]
  },
  {
   "cell_type": "code",
   "execution_count": null,
   "id": "80b3e163-1859-44a6-902e-c69e8842b6c7",
   "metadata": {},
   "outputs": [],
   "source": [
    "res = x_test.to_frame().reset_index(drop=True)\n",
    "res['pred'] = pd.Series(pred)\n",
    "pd.set_option('display.max_colwidth', None)\n",
    "res.sample(10)"
   ]
  },
  {
   "cell_type": "code",
   "execution_count": null,
   "id": "fb215b50-4372-4280-acb8-bc086318c8c5",
   "metadata": {},
   "outputs": [],
   "source": []
  }
 ],
 "metadata": {
  "kernelspec": {
   "display_name": "mlearn",
   "language": "python",
   "name": "mlearn"
  },
  "language_info": {
   "codemirror_mode": {
    "name": "ipython",
    "version": 3
   },
   "file_extension": ".py",
   "mimetype": "text/x-python",
   "name": "python",
   "nbconvert_exporter": "python",
   "pygments_lexer": "ipython3",
   "version": "3.9.12"
  }
 },
 "nbformat": 4,
 "nbformat_minor": 5
}

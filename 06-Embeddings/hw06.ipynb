{
 "cells": [
  {
   "cell_type": "markdown",
   "id": "f099ce50-a1aa-4502-b981-c0d1c85f77c7",
   "metadata": {},
   "source": [
    "### Задание\n",
    "\n",
    "Попробуйте поработать с датасетом юридических текстов. В датасете всего две важных колонки признаков: заголовок дела и его текст, а целевая переменная - case_outcome (мультиклассовая классификация). \n",
    "\n",
    "В базовом варианте можно оставить только текст дела, если хотите поинтереснее - можно попробовать распарсить case_title, добыв оттуда дополнительные признаки. "
   ]
  },
  {
   "cell_type": "markdown",
   "id": "e8df3683-30fb-46f4-8c4f-5beee132a036",
   "metadata": {},
   "source": [
    "https://www.kaggle.com/datasets/amohankumar/legal-text-classification-dataset"
   ]
  },
  {
   "cell_type": "code",
   "execution_count": null,
   "id": "61907767-c695-4581-9793-044286450797",
   "metadata": {},
   "outputs": [],
   "source": [
    "data = pd.read_csv('legal_text_classification.csv')\n",
    "data.head()"
   ]
  }
 ],
 "metadata": {
  "kernelspec": {
   "display_name": "Python 3 (ipykernel)",
   "language": "python",
   "name": "python3"
  },
  "language_info": {
   "codemirror_mode": {
    "name": "ipython",
    "version": 3
   },
   "file_extension": ".py",
   "mimetype": "text/x-python",
   "name": "python",
   "nbconvert_exporter": "python",
   "pygments_lexer": "ipython3",
   "version": "3.11.5"
  }
 },
 "nbformat": 4,
 "nbformat_minor": 5
}

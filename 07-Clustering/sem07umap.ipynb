{
 "cells": [
  {
   "cell_type": "code",
   "execution_count": null,
   "id": "a3019401-c607-49b4-b0c9-ac5b8503dbfe",
   "metadata": {},
   "outputs": [],
   "source": [
    "# pip\n",
    "!pip install umap-learn\n",
    "!pip install umap-learn[plot]\n",
    "# conda\n",
    "!conda install -c conda-forge umap-learn\n",
    "!conda install seaborn datashader bokeh holoviews"
   ]
  },
  {
   "cell_type": "code",
   "execution_count": null,
   "id": "c11a5295-c1a8-4636-ad22-e857a7d97bcc",
   "metadata": {
    "tags": []
   },
   "outputs": [],
   "source": [
    "import pandas as pd\n",
    "import umap\n",
    "import umap.plot\n",
    "\n",
    "from sklearn.datasets import fetch_20newsgroups\n",
    "from sklearn.feature_extraction.text import CountVectorizer, TfidfVectorizer\n",
    "\n",
    "import matplotlib.pyplot as plt\n",
    "%matplotlib notebook\n",
    "%matplotlib inline\n",
    "from bokeh.plotting import show, save, output_notebook, output_file\n",
    "from bokeh.resources import INLINE\n",
    "output_notebook(resources=INLINE)"
   ]
  },
  {
   "cell_type": "code",
   "execution_count": null,
   "id": "f6d49dbf-49be-4176-ab04-3763bf5e0157",
   "metadata": {},
   "outputs": [],
   "source": [
    "dataset = fetch_20newsgroups(subset='all',\n",
    "                             shuffle=True, random_state=42)"
   ]
  },
  {
   "cell_type": "code",
   "execution_count": null,
   "id": "8d543dd2-bd6d-43a6-a046-c53a56881634",
   "metadata": {},
   "outputs": [],
   "source": [
    "print(f'{len(dataset.data)} documents')\n",
    "print(f'{len(dataset.target_names)} categories')\n",
    "print(*list(enumerate(dataset.target_names, 1)), sep='\\n')"
   ]
  },
  {
   "cell_type": "code",
   "execution_count": null,
   "id": "e10bfe8e-eeaa-4e8c-b562-d48d52a140a8",
   "metadata": {},
   "outputs": [],
   "source": [
    "category_labels = [dataset.target_names[x] for x in dataset.target]\n",
    "hover_df = pd.DataFrame(category_labels, columns=['category'])"
   ]
  },
  {
   "cell_type": "code",
   "execution_count": null,
   "id": "b19a6523-4257-4d89-a2b6-7bdb1012ad30",
   "metadata": {},
   "outputs": [],
   "source": [
    "vectorizer = CountVectorizer(min_df=5, stop_words='english')\n",
    "word_doc_matrix = vectorizer.fit_transform(dataset.data)"
   ]
  },
  {
   "cell_type": "code",
   "execution_count": null,
   "id": "d1c14336-508b-48af-a7eb-8d0452857f2c",
   "metadata": {},
   "outputs": [],
   "source": [
    "embedding = umap.UMAP(n_components=2, metric='hellinger').fit(word_doc_matrix)"
   ]
  },
  {
   "cell_type": "code",
   "execution_count": null,
   "id": "e8078f6d-151b-4506-bdef-5196e798a7be",
   "metadata": {},
   "outputs": [],
   "source": [
    "f = umap.plot.points(embedding, labels=hover_df['category'])"
   ]
  },
  {
   "cell_type": "code",
   "execution_count": null,
   "id": "3367e04a-8db2-4cfc-b746-ee05ada28b87",
   "metadata": {},
   "outputs": [],
   "source": [
    "f = umap.plot.interactive(embedding, labels=dataset.target, hover_data=hover_df, point_size=1)\n",
    "show(f)"
   ]
  },
  {
   "cell_type": "code",
   "execution_count": null,
   "id": "b6d64b62-75a6-4dbb-9d39-af8b4b8482bf",
   "metadata": {},
   "outputs": [],
   "source": []
  }
 ],
 "metadata": {
  "kernelspec": {
   "display_name": "mlearn",
   "language": "python",
   "name": "mlearn"
  },
  "language_info": {
   "codemirror_mode": {
    "name": "ipython",
    "version": 3
   },
   "file_extension": ".py",
   "mimetype": "text/x-python",
   "name": "python",
   "nbconvert_exporter": "python",
   "pygments_lexer": "ipython3",
   "version": "3.9.15"
  }
 },
 "nbformat": 4,
 "nbformat_minor": 5
}
